{
 "cells": [
  {
   "cell_type": "markdown",
   "metadata": {},
   "source": [
    "### Class features\n",
    "\n",
    "* **Class variables** : \n",
    "for use by all the methods in the class \n",
    "\n",
    "\n",
    "* **Instance variables** : \n",
    "for use by specific method in which the  variable is declared\n",
    "\n",
    "\n",
    "* **Inheritance** : \n",
    "child class can use attributes and methods of parent class \n",
    "\n",
    "\n",
    "* **Multiple Inheritance** : \n",
    "child class can inherit attributes and methods from more than one class \n",
    "\n",
    "\n",
    "* **polymorphism** : \n",
    "child class can override class methods of parent class "
   ]
  },
  {
   "cell_type": "markdown",
   "metadata": {},
   "source": [
    "### __init__ method\n",
    "* sets attributes for an object at object creation\n",
    "* is a constructor\n"
   ]
  },
  {
   "cell_type": "markdown",
   "metadata": {},
   "source": [
    "### self variable\n",
    "* used to reference object that is constructed by init method \n"
   ]
  },
  {
   "cell_type": "code",
   "execution_count": null,
   "metadata": {},
   "outputs": [],
   "source": [
    "class Person:\n",
    "    def __init__(self,firstname,lastname,health,status):\n",
    "        self.firstname = firstname\n",
    "        self.lastname = lastname\n",
    "        self.health = health\n",
    "        self.status = status \n",
    "\n",
    "    def emote(self):\n",
    "        emotion = random.randrange(1,3)\n",
    "        if emotion == 1:\n",
    "            print(\"{} is happy today\".format(self.firstname))\n",
    "        elif emotion == 2:\n",
    "            print(\"{} is sad right now\".format(self.firstname))\n",
    "\n",
    "    def status_change(self):\n",
    "        if self.health == 100:\n",
    "            print(\"{} is totally healthy!\".format(self.firstname))\n",
    "        elif self.health >= 76:\n",
    "            print(\"{} is a little tired today\".format(self.firstname))\n",
    "        elif self.health >= 51:\n",
    "            print(\"{} feels unwell\".format(self.firstname))\n",
    "        elif self.health >= 40:\n",
    "            print(\"{} goes to the doctor\".format(self.firstname))\n",
    "        else:\n",
    "            print(\"{} is unconscious\".format(self.firstname))\n"
   ]
  }
 ],
 "metadata": {
  "language_info": {
   "codemirror_mode": {
    "name": "ipython",
    "version": 3
   },
   "file_extension": ".py",
   "mimetype": "text/x-python",
   "name": "python",
   "nbconvert_exporter": "python",
   "pygments_lexer": "ipython3",
   "version": 3
  },
  "orig_nbformat": 2
 },
 "nbformat": 4,
 "nbformat_minor": 2
}