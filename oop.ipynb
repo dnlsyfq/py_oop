{
 "cells": [
  {
   "cell_type": "markdown",
   "metadata": {},
   "source": [
    "### Class features\n",
    "\n",
    "* **Class variables** : \n",
    "for use by all the methods in the class \n",
    "\n",
    "\n",
    "* **Instance variables** : \n",
    "for use by specific method in which the  variable is declared\n",
    "\n",
    "\n",
    "* **Inheritance** : \n",
    "child class can use attributes and methods of parent class \n",
    "\n",
    "\n",
    "* **Multiple Inheritance** : \n",
    "child class can inherit attributes and methods from more than one class \n",
    "\n",
    "\n",
    "* **polymorphism** : \n",
    "child class can override class methods of parent class "
   ]
  },
  {
   "cell_type": "markdown",
   "metadata": {},
   "source": [
    "### __init__ method\n",
    "* sets attributes for an object at object creation\n",
    "* is a constructor\n"
   ]
  },
  {
   "cell_type": "markdown",
   "metadata": {},
   "source": [
    "### self variable\n",
    "* used to reference object that is constructed by init method \n"
   ]
  },
  {
   "cell_type": "code",
   "execution_count": 7,
   "metadata": {},
   "outputs": [],
   "source": [
    "class Person:\n",
    "    def __init__(self,firstname,lastname,health,status):\n",
    "        self.firstname = firstname\n",
    "        self.lastname = lastname\n",
    "        self.health = health\n",
    "        self.status = status \n",
    "\n",
    "    def introduce(self):\n",
    "        print(\"Hello, my name is {} {}\".format(self.firstname,self.lastname))\n",
    "\n",
    "    def emote(self):\n",
    "        emotion = random.randrange(1,3)\n",
    "        if emotion == 1:\n",
    "            print(\"{} is happy today\".format(self.firstname))\n",
    "        elif emotion == 2:\n",
    "            print(\"{} is sad right now\".format(self.firstname))\n",
    "\n",
    "    def status_change(self):\n",
    "        if self.health == 100:\n",
    "            print(\"{} is totally healthy!\".format(self.firstname))\n",
    "        elif self.health >= 76:\n",
    "            print(\"{} is a little tired today\".format(self.firstname))\n",
    "        elif self.health >= 51:\n",
    "            print(\"{} feels unwell\".format(self.firstname))\n",
    "        elif self.health >= 40:\n",
    "            print(\"{} goes to the doctor\".format(self.firstname))\n",
    "        else:\n",
    "            print(\"{} is unconscious\".format(self.firstname))\n"
   ]
  },
  {
   "cell_type": "code",
   "execution_count": 9,
   "metadata": {},
   "outputs": [],
   "source": [
    "Maria = Person(\"Maria\",\"Gutierrez\",95,status=True)\n",
    "Rey = Person(\"Rey\",\"Jones\",88,status=False)\n",
    "Lee = Person(\"Lee\",\"Williams\",72,status=True)"
   ]
  },
  {
   "cell_type": "code",
   "execution_count": 5,
   "metadata": {},
   "outputs": [
    {
     "output_type": "stream",
     "name": "stdout",
     "text": "Maria is my friend? True\nRey is my friend? False\n"
    }
   ],
   "source": [
    "print(\"{} is my friend? {}\".format(Maria.firstname,Maria.status))\n",
    "print(\"{} is my friend? {}\".format(Rey.firstname,Rey.status))"
   ]
  },
  {
   "cell_type": "code",
   "execution_count": 10,
   "metadata": {},
   "outputs": [
    {
     "output_type": "stream",
     "name": "stdout",
     "text": "Hello, my name is Maria Gutierrez\n"
    }
   ],
   "source": [
    "Maria.introduce()"
   ]
  },
  {
   "cell_type": "code",
   "execution_count": 11,
   "metadata": {},
   "outputs": [
    {
     "output_type": "stream",
     "name": "stdout",
     "text": "Maria is a little tired today\n"
    }
   ],
   "source": [
    "Maria.status_change()"
   ]
  },
  {
   "cell_type": "markdown",
   "metadata": {},
   "source": [
    "### Inheritance\n",
    "\n",
    "* Using the attributes and methods from one class in another class \n",
    "\n",
    "```\n",
    "class Person():\n",
    "    def __init__(self,attribute,attribute2)\n",
    "\n",
    "class Enemy(Person):\n",
    "    def __init__(self,new_attribute,attribute,attribute2)\n",
    "    super().__init__(attribute,attribute2)\n",
    "    self.new_attribute = new_attribute\n",
    "    \n",
    "\n",
    "```\n"
   ]
  },
  {
   "cell_type": "code",
   "execution_count": 14,
   "metadata": {},
   "outputs": [],
   "source": [
    "class Enemy(Person):\n",
    "    def __init__(self,weapon,firstname,lastname,health,status):\n",
    "        super().__init__(firstname,lastname,health,status)\n",
    "        self.weapon = weapon\n",
    "\n",
    "    def hurt(self,other):\n",
    "        if self.weapon == 'rock':\n",
    "            other.health -= 10\n",
    "        elif self.weapon == 'stick':\n",
    "            other.health -= 5 \n",
    "        print(other.health)\n",
    "\n",
    "    \n",
    "    def insult(self,other):\n",
    "        if other.health <= 80:\n",
    "            print(\"{}, you are tired and weak\".format(other.firstname))\n",
    "\n",
    "    def steal(self,other):\n",
    "        print(\"ha ha ha,{}, I have your stuff!\".format(other.firstname))"
   ]
  },
  {
   "cell_type": "code",
   "execution_count": 15,
   "metadata": {},
   "outputs": [],
   "source": [
    "Alex = Enemy('rock','Alex','Wayne',75,status=False)\n"
   ]
  },
  {
   "cell_type": "code",
   "execution_count": 16,
   "metadata": {},
   "outputs": [
    {
     "output_type": "stream",
     "name": "stdout",
     "text": "85\n"
    }
   ],
   "source": [
    "Alex.hurt(Maria)"
   ]
  },
  {
   "cell_type": "code",
   "execution_count": 17,
   "metadata": {},
   "outputs": [],
   "source": [
    "Alex.insult(Rey)"
   ]
  },
  {
   "cell_type": "code",
   "execution_count": 18,
   "metadata": {},
   "outputs": [
    {
     "output_type": "stream",
     "name": "stdout",
     "text": "Lee, you are tired and weak\n"
    }
   ],
   "source": [
    "Alex.insult(Lee)"
   ]
  },
  {
   "cell_type": "code",
   "execution_count": 19,
   "metadata": {},
   "outputs": [
    {
     "output_type": "stream",
     "name": "stdout",
     "text": "ha ha ha,Rey, I have your stuff!\n"
    }
   ],
   "source": [
    "Alex.steal(Rey)"
   ]
  },
  {
   "cell_type": "markdown",
   "metadata": {},
   "source": [
    "### Multiple Inheritance\n",
    "\n",
    "When one class inherits from multiple classes and is able to use\n",
    "attributes and methods from both classes\n",
    "\n",
    "```\n",
    "class Animal():\n",
    "    def __init__(self,sound,look):\n",
    "        pass\n",
    "    \n",
    "class Place():\n",
    "    def __init__(self,climate,lat,lon):\n",
    "        pass\n",
    "\n",
    "\n",
    "class Mammal(Animal,Place):\n",
    "    def __init__(self,sound,look,lat,lon,food):\n",
    "        Animal.__init__(self,sound,look)\n",
    "        Place.__init__(self,climate,lat,lon)\n",
    "        self.food=food\n",
    "\n",
    "```\n",
    "\n"
   ]
  },
  {
   "cell_type": "code",
   "execution_count": null,
   "metadata": {},
   "outputs": [],
   "source": [
    "\n",
    "class Item:\n",
    "    def __init__(self,sku):\n",
    "        self.sku\n",
    "\n",
    "    def print_sku(self):\n",
    "        print(\"SKU: {}\".format(self.sku))\n",
    "\n",
    "class Garment:\n",
    "    def __init__(self,section,type):\n",
    "        self.section = section \n",
    "        self.type = type \n",
    "\n",
    "    def print_garment(self):\n",
    "        print(\"Garment: {}\".format(self.section))\n",
    "\n",
    "class Shirts(Item,Garment):\n",
    "    def __init__(self,sku,section,type,name,color):\n",
    "        self.name = name \n",
    "        self.color = color \n",
    "        Item.__init__(self,sku)\n",
    "        Garment.__init__(self,section,type)\n",
    "\n",
    "\n",
    "    def print_shirt(self):\n",
    "        print(\"{} {} on sale!\".format(self.color,self.name))\n"
   ]
  },
  {
   "cell_type": "markdown",
   "metadata": {},
   "source": [
    "### Polymorphism\n",
    "\n",
    "* method overriding \n"
   ]
  },
  {
   "cell_type": "code",
   "execution_count": null,
   "metadata": {},
   "outputs": [],
   "source": [
    "class Enemy(Person):\n",
    "    def __init__(self,weapon,firstname,lastname,health,status):\n",
    "        super().__init__(firstname,lastname,health,status)\n",
    "        self.weapon = weapon\n",
    "\n",
    "    ### New Method \n",
    "\n",
    "    def introduce(self):\n",
    "        print('You are my mortal enemy')\n",
    "\n",
    "    def hurt(self,other):\n",
    "        if self.weapon == 'rock':\n",
    "            other.health -= 10\n",
    "        elif self.weapon == 'stick':\n",
    "            other.health -= 5 \n",
    "        print(other.health)\n",
    "\n",
    "    \n",
    "    def insult(self,other):\n",
    "        if other.health <= 80:\n",
    "            print(\"{}, you are tired and weak\".format(other.firstname))\n",
    "\n",
    "    def steal(self,other):\n",
    "        print(\"ha ha ha,{}, I have your stuff!\".format(other.firstname))"
   ]
  }
 ],
 "metadata": {
  "language_info": {
   "codemirror_mode": {
    "name": "ipython",
    "version": 3
   },
   "file_extension": ".py",
   "mimetype": "text/x-python",
   "name": "python",
   "nbconvert_exporter": "python",
   "pygments_lexer": "ipython3",
   "version": "3.7.4-final"
  },
  "orig_nbformat": 2,
  "kernelspec": {
   "name": "python37464bit4ad338c7328e4db69388c6d6cb8a3a52",
   "display_name": "Python 3.7.4 64-bit"
  }
 },
 "nbformat": 4,
 "nbformat_minor": 2
}